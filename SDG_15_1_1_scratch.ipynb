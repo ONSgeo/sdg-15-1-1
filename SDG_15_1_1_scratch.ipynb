{
 "cells": [
  {
   "cell_type": "code",
   "execution_count": 1,
   "metadata": {},
   "outputs": [
    {
     "name": "stderr",
     "output_type": "stream",
     "text": [
      "C:\\Users\\astlel\\Anaconda3\\lib\\site-packages\\pandas\\core\\computation\\expressions.py:20: UserWarning: Pandas requires version '2.7.3' or newer of 'numexpr' (version '2.7.1' currently installed).\n",
      "  from pandas.core.computation.check import NUMEXPR_INSTALLED\n"
     ]
    },
    {
     "ename": "IndentationError",
     "evalue": "unindent does not match any outer indentation level (sdg_15_1_1.py, line 24)",
     "output_type": "error",
     "traceback": [
      "Traceback \u001b[1;36m(most recent call last)\u001b[0m:\n",
      "  File \u001b[0;32m\"C:\\Users\\astlel\\Anaconda3\\lib\\site-packages\\IPython\\core\\interactiveshell.py\"\u001b[0m, line \u001b[0;32m3343\u001b[0m, in \u001b[0;35mrun_code\u001b[0m\n    exec(code_obj, self.user_global_ns, self.user_ns)\n",
      "  File \u001b[0;32m\"<ipython-input-1-d8b4ea13f087>\"\u001b[0m, line \u001b[0;32m1\u001b[0m, in \u001b[0;35m<module>\u001b[0m\n    from src.SDG15_1_1 import SDG15_1_1\n",
      "\u001b[1;36m  File \u001b[1;32m\"C:\\Users\\astlel\\scripts\\geo_work\\sdg_15_1_1\\sdg-15-1-1\\src\\SDG15_1_1\\__init__.py\"\u001b[1;36m, line \u001b[1;32m4\u001b[1;36m, in \u001b[1;35m<module>\u001b[1;36m\u001b[0m\n\u001b[1;33m    from .sdg_15_1_1 import SDG15_1_1\u001b[0m\n",
      "\u001b[1;36m  File \u001b[1;32m\"C:\\Users\\astlel\\scripts\\geo_work\\sdg_15_1_1\\sdg-15-1-1\\src\\SDG15_1_1\\sdg_15_1_1.py\"\u001b[1;36m, line \u001b[1;32m24\u001b[0m\n\u001b[1;33m    def __init__(self, sdg_name: str, root_dir: str, data_dir: Optional[str] = None, output_dir: Optional[str] = None) -> None:\u001b[0m\n\u001b[1;37m                                                                                                                               ^\u001b[0m\n\u001b[1;31mIndentationError\u001b[0m\u001b[1;31m:\u001b[0m unindent does not match any outer indentation level\n"
     ]
    }
   ],
   "source": [
    "from src.SDG15_1_1 import SDG15_1_1\n",
    "from user_params import UserParams\n",
    "\n",
    "params = UserParams()\n",
    "\n",
    "gfr = SDG15_1_1('', params.root_dir, params.data_dir, params.output_dir)"
   ]
  },
  {
   "cell_type": "code",
   "execution_count": null,
   "metadata": {},
   "outputs": [],
   "source": [
    "gfr.calculate_multiple_years(params.year_start, params.year_end)"
   ]
  },
  {
   "cell_type": "code",
   "execution_count": null,
   "metadata": {},
   "outputs": [],
   "source": [
    "import glob\n",
    "import pandas as pd\n",
    "\n",
    "all_files = glob.glob(f'{root_dir}/sdg_15_1_1_output/*.csv')\n",
    "\n",
    "dfs = []\n",
    "\n",
    "for f in all_files:\n",
    "    df = pd.read_csv(f, index_col=0)\n",
    "    dfs.append(df)\n",
    "    \n",
    "wood_ts = pd.concat(dfs, axis=1)\n",
    "\n",
    "wood_ts.loc[wood_ts.index[30]].plot()"
   ]
  },
  {
   "cell_type": "code",
   "execution_count": 1,
   "metadata": {},
   "outputs": [
    {
     "name": "stderr",
     "output_type": "stream",
     "text": [
      "C:\\Users\\astlel\\Anaconda3\\lib\\site-packages\\pandas\\core\\computation\\expressions.py:20: UserWarning: Pandas requires version '2.7.3' or newer of 'numexpr' (version '2.7.1' currently installed).\n",
      "  from pandas.core.computation.check import NUMEXPR_INSTALLED\n"
     ]
    }
   ],
   "source": [
    "from src.SDG15_1_1 import SDGBase\n",
    "from user_params import UserParams"
   ]
  },
  {
   "cell_type": "code",
   "execution_count": null,
   "metadata": {},
   "outputs": [],
   "source": []
  }
 ],
 "metadata": {
  "kernelspec": {
   "display_name": "geo_env38",
   "language": "python",
   "name": "geo_env38"
  },
  "language_info": {
   "codemirror_mode": {
    "name": "ipython",
    "version": 3
   },
   "file_extension": ".py",
   "mimetype": "text/x-python",
   "name": "python",
   "nbconvert_exporter": "python",
   "pygments_lexer": "ipython3",
   "version": "3.8.3"
  }
 },
 "nbformat": 4,
 "nbformat_minor": 5
}
