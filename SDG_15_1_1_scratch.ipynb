{
 "cells": [
  {
   "cell_type": "code",
   "execution_count": 3,
   "metadata": {},
   "outputs": [],
   "source": [
    "from src.sdg15_1_1 import SDG15_1_1\n",
    "from user_params import UserParams\n",
    "\n",
    "params = UserParams()\n",
    "\n",
    "gfr = SDG15_1_1('', params.root_dir, params.data_dir, params.output_dir)"
   ]
  },
  {
   "cell_type": "code",
   "execution_count": 4,
   "metadata": {},
   "outputs": [
    {
     "name": "stdout",
     "output_type": "stream",
     "text": [
      "execution failed, please check necessary params:\n",
      "\n",
      "root_dir = C:\\Users\\Cusse\\Scripts\\geo_work\\sdg-15-1-1\n",
      "data_dir = None\n",
      "output_dir = None\n",
      "year_start = 2017\n",
      "year_end = 2022\n",
      "single_year_test = True\n",
      "lad_file_path = None\n",
      "sam_file_path = None\n",
      "nfi_file_path = None\n"
     ]
    }
   ],
   "source": [
    "if params.single_year_test and all([params.lad_file_path, params.sam_file_path, params.nfi_file_path, params.year_start]):\n",
    "    gfr.calculate_sdg(params.lad_file_path, params.sam_file_path, params.nfi_file_path, params.year_start)\n",
    "\n",
    "if not params.single_year_test and all([params.year_start, params.year_end]):\n",
    "    gfr.calculate_multiple_years(params.year_start, params.year_end)\n",
    "    \n",
    "else:\n",
    "    print('Execution failed, please check necessary params:\\n')\n",
    "    params.print_params()"
   ]
  },
  {
   "cell_type": "code",
   "execution_count": 6,
   "metadata": {},
   "outputs": [
    {
     "data": {
      "text/plain": [
       "<matplotlib.axes._subplots.AxesSubplot at 0x1862284c2e0>"
      ]
     },
     "execution_count": 6,
     "metadata": {},
     "output_type": "execute_result"
    },
    {
     "data": {
      "image/png": "[encoded data removed]",
      "text/plain": [
       "<Figure size 432x288 with 1 Axes>"
      ]
     },
     "metadata": {
      "needs_background": "light"
     },
     "output_type": "display_data"
    }
   ],
   "source": [
    "import glob\n",
    "import pandas as pd\n",
    "\n",
    "all_files = glob.glob(f'{params.root_dir}/sdg_15_1_1_output/*.csv')\n",
    "\n",
    "dfs = []\n",
    "\n",
    "for f in all_files:\n",
    "    df = pd.read_csv(f, index_col=0)\n",
    "    dfs.append(df)\n",
    "    \n",
    "wood_ts = pd.concat(dfs, axis=1)\n",
    "wood_ts.columns = [col.split('_')[-1] for col in wood_ts.columns]\n",
    "wood_ts.loc[wood_ts.index[1]].plot()"
   ]
  },
  {
   "cell_type": "code",
   "execution_count": 11,
   "metadata": {},
   "outputs": [
    {
     "data": {
      "text/html": [
       "<div>\n",
       "<style scoped>\n",
       "    .dataframe tbody tr th:only-of-type {\n",
       "        vertical-align: middle;\n",
       "    }\n",
       "\n",
       "    .dataframe tbody tr th {\n",
       "        vertical-align: top;\n",
       "    }\n",
       "\n",
       "    .dataframe thead th {\n",
       "        text-align: right;\n",
       "    }\n",
       "</style>\n",
       "<table border=\"1\" class=\"dataframe\">\n",
       "  <thead>\n",
       "    <tr style=\"text-align: right;\">\n",
       "      <th></th>\n",
       "      <th>2017</th>\n",
       "      <th>2018</th>\n",
       "      <th>2019</th>\n",
       "      <th>2020</th>\n",
       "      <th>2021</th>\n",
       "    </tr>\n",
       "  </thead>\n",
       "  <tbody>\n",
       "    <tr>\n",
       "      <th>W06000012</th>\n",
       "      <td>43.361921</td>\n",
       "      <td>43.355366</td>\n",
       "      <td>43.409895</td>\n",
       "      <td>43.368763</td>\n",
       "      <td>42.901186</td>\n",
       "    </tr>\n",
       "    <tr>\n",
       "      <th>E06000036</th>\n",
       "      <td>41.813308</td>\n",
       "      <td>41.647794</td>\n",
       "      <td>41.879210</td>\n",
       "      <td>41.818301</td>\n",
       "      <td>41.816642</td>\n",
       "    </tr>\n",
       "    <tr>\n",
       "      <th>E07000214</th>\n",
       "      <td>40.722489</td>\n",
       "      <td>41.687644</td>\n",
       "      <td>41.463351</td>\n",
       "      <td>41.297516</td>\n",
       "      <td>41.017855</td>\n",
       "    </tr>\n",
       "    <tr>\n",
       "      <th>E07000216</th>\n",
       "      <td>40.599160</td>\n",
       "      <td>40.441314</td>\n",
       "      <td>40.455239</td>\n",
       "      <td>40.430543</td>\n",
       "      <td>40.424205</td>\n",
       "    </tr>\n",
       "    <tr>\n",
       "      <th>E07000192</th>\n",
       "      <td>37.668972</td>\n",
       "      <td>37.669016</td>\n",
       "      <td>37.450064</td>\n",
       "      <td>36.818659</td>\n",
       "      <td>36.857319</td>\n",
       "    </tr>\n",
       "    <tr>\n",
       "      <th>E07000209</th>\n",
       "      <td>36.381116</td>\n",
       "      <td>36.499944</td>\n",
       "      <td>36.438617</td>\n",
       "      <td>36.418404</td>\n",
       "      <td>36.387627</td>\n",
       "    </tr>\n",
       "    <tr>\n",
       "      <th>E07000210</th>\n",
       "      <td>33.733110</td>\n",
       "      <td>33.726704</td>\n",
       "      <td>33.719039</td>\n",
       "      <td>33.850615</td>\n",
       "      <td>33.871988</td>\n",
       "    </tr>\n",
       "    <tr>\n",
       "      <th>S12000028</th>\n",
       "      <td>31.623849</td>\n",
       "      <td>31.672520</td>\n",
       "      <td>31.929610</td>\n",
       "      <td>32.432958</td>\n",
       "      <td>32.467069</td>\n",
       "    </tr>\n",
       "    <tr>\n",
       "      <th>S12000020</th>\n",
       "      <td>32.181555</td>\n",
       "      <td>32.230202</td>\n",
       "      <td>32.262340</td>\n",
       "      <td>32.222922</td>\n",
       "      <td>32.320077</td>\n",
       "    </tr>\n",
       "    <tr>\n",
       "      <th>W06000016</th>\n",
       "      <td>32.545639</td>\n",
       "      <td>32.569157</td>\n",
       "      <td>32.643510</td>\n",
       "      <td>32.607077</td>\n",
       "      <td>32.193357</td>\n",
       "    </tr>\n",
       "    <tr>\n",
       "      <th>E07000092</th>\n",
       "      <td>31.751787</td>\n",
       "      <td>31.666650</td>\n",
       "      <td>32.069441</td>\n",
       "      <td>31.892455</td>\n",
       "      <td>31.877964</td>\n",
       "    </tr>\n",
       "    <tr>\n",
       "      <th>E07000091</th>\n",
       "      <td>31.485091</td>\n",
       "      <td>31.483737</td>\n",
       "      <td>31.531567</td>\n",
       "      <td>31.511475</td>\n",
       "      <td>31.508898</td>\n",
       "    </tr>\n",
       "    <tr>\n",
       "      <th>S12000035</th>\n",
       "      <td>30.766420</td>\n",
       "      <td>30.814470</td>\n",
       "      <td>30.882900</td>\n",
       "      <td>30.923807</td>\n",
       "      <td>30.982901</td>\n",
       "    </tr>\n",
       "    <tr>\n",
       "      <th>E07000089</th>\n",
       "      <td>30.660152</td>\n",
       "      <td>30.627712</td>\n",
       "      <td>30.606956</td>\n",
       "      <td>30.590511</td>\n",
       "      <td>30.580152</td>\n",
       "    </tr>\n",
       "    <tr>\n",
       "      <th>E07000212</th>\n",
       "      <td>30.620588</td>\n",
       "      <td>30.567921</td>\n",
       "      <td>30.525928</td>\n",
       "      <td>30.486571</td>\n",
       "      <td>30.453805</td>\n",
       "    </tr>\n",
       "    <tr>\n",
       "      <th>S12000006</th>\n",
       "      <td>29.644613</td>\n",
       "      <td>29.872469</td>\n",
       "      <td>29.912276</td>\n",
       "      <td>30.087484</td>\n",
       "      <td>30.268687</td>\n",
       "    </tr>\n",
       "    <tr>\n",
       "      <th>E09000021</th>\n",
       "      <td>28.417822</td>\n",
       "      <td>28.824927</td>\n",
       "      <td>28.854573</td>\n",
       "      <td>29.073859</td>\n",
       "      <td>29.073859</td>\n",
       "    </tr>\n",
       "    <tr>\n",
       "      <th>E07000228</th>\n",
       "      <td>28.951487</td>\n",
       "      <td>28.957579</td>\n",
       "      <td>29.021416</td>\n",
       "      <td>29.042121</td>\n",
       "      <td>29.067606</td>\n",
       "    </tr>\n",
       "    <tr>\n",
       "      <th>E07000226</th>\n",
       "      <td>30.184726</td>\n",
       "      <td>29.210119</td>\n",
       "      <td>29.081288</td>\n",
       "      <td>29.013704</td>\n",
       "      <td>28.954466</td>\n",
       "    </tr>\n",
       "    <tr>\n",
       "      <th>E07000225</th>\n",
       "      <td>28.774962</td>\n",
       "      <td>28.765723</td>\n",
       "      <td>28.757765</td>\n",
       "      <td>28.748998</td>\n",
       "      <td>28.778402</td>\n",
       "    </tr>\n",
       "  </tbody>\n",
       "</table>\n",
       "</div>"
      ],
      "text/plain": [
       "                2017       2018       2019       2020       2021\n",
       "W06000012  43.361921  43.355366  43.409895  43.368763  42.901186\n",
       "E06000036  41.813308  41.647794  41.879210  41.818301  41.816642\n",
       "E07000214  40.722489  41.687644  41.463351  41.297516  41.017855\n",
       "E07000216  40.599160  40.441314  40.455239  40.430543  40.424205\n",
       "E07000192  37.668972  37.669016  37.450064  36.818659  36.857319\n",
       "E07000209  36.381116  36.499944  36.438617  36.418404  36.387627\n",
       "E07000210  33.733110  33.726704  33.719039  33.850615  33.871988\n",
       "S12000028  31.623849  31.672520  31.929610  32.432958  32.467069\n",
       "S12000020  32.181555  32.230202  32.262340  32.222922  32.320077\n",
       "W06000016  32.545639  32.569157  32.643510  32.607077  32.193357\n",
       "E07000092  31.751787  31.666650  32.069441  31.892455  31.877964\n",
       "E07000091  31.485091  31.483737  31.531567  31.511475  31.508898\n",
       "S12000035  30.766420  30.814470  30.882900  30.923807  30.982901\n",
       "E07000089  30.660152  30.627712  30.606956  30.590511  30.580152\n",
       "E07000212  30.620588  30.567921  30.525928  30.486571  30.453805\n",
       "S12000006  29.644613  29.872469  29.912276  30.087484  30.268687\n",
       "E09000021  28.417822  28.824927  28.854573  29.073859  29.073859\n",
       "E07000228  28.951487  28.957579  29.021416  29.042121  29.067606\n",
       "E07000226  30.184726  29.210119  29.081288  29.013704  28.954466\n",
       "E07000225  28.774962  28.765723  28.757765  28.748998  28.778402"
      ]
     },
     "execution_count": 11,
     "metadata": {},
     "output_type": "execute_result"
    }
   ],
   "source": [
    "wood_ts.sort_values(by='2021', ascending=0).head(20)"
   ]
  },
  {
   "cell_type": "code",
   "execution_count": 2,
   "metadata": {},
   "outputs": [
    {
     "name": "stderr",
     "output_type": "stream",
     "text": [
      "....."
     ]
    },
    {
     "name": "stdout",
     "output_type": "stream",
     "text": [
      "Setting up class\n",
      "running test_get_input_data_dir\n",
      "running test_get_output_data_dir\n",
      "running test_get_read_function\n",
      "running test_set_input_data_dir\n",
      "running test_set_output_data_dir\n"
     ]
    },
    {
     "name": "stderr",
     "output_type": "stream",
     "text": [
      "\n",
      "----------------------------------------------------------------------\n",
      "Ran 5 tests in 0.026s\n",
      "\n",
      "OK\n"
     ]
    },
    {
     "data": {
      "text/plain": [
       "<unittest.runner.TextTestResult run=5 errors=0 failures=0>"
      ]
     },
     "execution_count": 2,
     "metadata": {},
     "output_type": "execute_result"
    }
   ],
   "source": [
    "from tests import TestSDGBase\n",
    "from unittest import TextTestRunner, defaultTestLoader\n",
    "\n",
    "TextTestRunner().run(defaultTestLoader.loadTestsFromTestCase(TestSDGBase))"
   ]
  },
  {
   "cell_type": "code",
   "execution_count": null,
   "metadata": {},
   "outputs": [],
   "source": []
  }
 ],
 "metadata": {
  "kernelspec": {
   "display_name": "geo_env38",
   "language": "python",
   "name": "geo_env38"
  },
  "language_info": {
   "codemirror_mode": {
    "name": "ipython",
    "version": 3
   },
   "file_extension": ".py",
   "mimetype": "text/x-python",
   "name": "python",
   "nbconvert_exporter": "python",
   "pygments_lexer": "ipython3",
   "version": "3.8.3"
  }
 },
 "nbformat": 4,
 "nbformat_minor": 5
}
