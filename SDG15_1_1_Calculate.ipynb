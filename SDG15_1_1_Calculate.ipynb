{
 "cells": [
  {
   "cell_type": "code",
   "execution_count": 2,
   "metadata": {},
   "outputs": [
    {
     "name": "stdout",
     "output_type": "stream",
     "text": [
      "Execution failed, please check necessary params:\n",
      "\n",
      "root_dir = C:\\Users\\Cusse\\Scripts\\geo_work\\sdg-15-1-1\n",
      "data_dir = None\n",
      "output_dir = None\n",
      "year_start = 2017\n",
      "year_end = 2022\n",
      "single_year_test = True\n",
      "lad_file_path = None\n",
      "sam_file_path = None\n",
      "nfi_file_path = None\n"
     ]
    }
   ],
   "source": [
    "import SDG15_1_1 as sdg\n",
    "from user_params import UserParams\n",
    "\n",
    "params = UserParams()\n",
    "sdg.run(params)"
   ]
  },
  {
   "cell_type": "code",
   "execution_count": null,
   "metadata": {},
   "outputs": [],
   "source": []
  }
 ],
 "metadata": {
  "kernelspec": {
   "display_name": "geo_env38",
   "language": "python",
   "name": "geo_env38"
  },
  "language_info": {
   "codemirror_mode": {
    "name": "ipython",
    "version": 3
   },
   "file_extension": ".py",
   "mimetype": "text/x-python",
   "name": "python",
   "nbconvert_exporter": "python",
   "pygments_lexer": "ipython3",
   "version": "3.8.3"
  }
 },
 "nbformat": 4,
 "nbformat_minor": 5
}
