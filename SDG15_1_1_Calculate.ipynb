{
 "cells": [
  {
   "cell_type": "code",
   "execution_count": null,
   "metadata": {},
   "outputs": [],
   "source": [
    "import src.SDG15_1_1 as sdg15\n",
    "from user_params import UserParams\n",
    "\n",
    "params = UserParams()\n",
    "sdg15.run(params)"
   ]
  }
 ],
 "metadata": {
  "kernelspec": {
   "display_name": "geo_env38",
   "language": "python",
   "name": "geo_env38"
  },
  "language_info": {
   "codemirror_mode": {
    "name": "ipython",
    "version": 3
   },
   "file_extension": ".py",
   "mimetype": "text/x-python",
   "name": "python",
   "nbconvert_exporter": "python",
   "pygments_lexer": "ipython3",
   "version": "3.8.3"
  }
 },
 "nbformat": 4,
 "nbformat_minor": 5
}
