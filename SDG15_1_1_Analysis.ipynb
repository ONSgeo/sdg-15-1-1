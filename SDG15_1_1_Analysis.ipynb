{
 "cells": [
  {
   "cell_type": "code",
   "execution_count": null,
   "metadata": {},
   "outputs": [],
   "source": [
    "import glob\n",
    "import pandas as pd\n",
    "import geopandas as gpd\n",
    "import matplotlib.pyplot as plt\n",
    "\n",
    "from user_params import UserParams"
   ]
  },
  {
   "cell_type": "code",
   "execution_count": null,
   "metadata": {},
   "outputs": [],
   "source": [
    "params = UserParams()\n",
    "all_files = glob.glob(f'{params.root_dir}/sdg_15_1_1_output/*.csv')\n",
    "lad = gpd.read_file(f'{params.root_dir}/sdg_15_1_1_data/LADs/LAD_DEC_2021_UK_BFE.shp')[['LAD21CD', 'LAD21NM']]\n",
    "lad = lad.set_index('LAD21CD')\n"
   ]
  },
  {
   "cell_type": "code",
   "execution_count": null,
   "metadata": {},
   "outputs": [],
   "source": [
    "dfs = []\n",
    "\n",
    "for f in all_files:\n",
    "    df = pd.read_csv(f, index_col=0)\n",
    "    dfs.append(df)"
   ]
  },
  {
   "cell_type": "code",
   "execution_count": null,
   "metadata": {},
   "outputs": [],
   "source": [
    "wood_ts = pd.concat(dfs, axis=1)\n",
    "wood_ts.columns = [col.split('_')[-1] for col in wood_ts.columns]\n"
   ]
  },
  {
   "cell_type": "code",
   "execution_count": null,
   "metadata": {},
   "outputs": [],
   "source": [
    "named_wood_ts = pd.concat([lad, wood_ts], axis=1).reset_index()\n",
    "named_wood_ts = named_wood_ts.rename(columns={'index':  'LAD21CD'}).set_index('LAD21NM')"
   ]
  },
  {
   "cell_type": "code",
   "execution_count": null,
   "metadata": {},
   "outputs": [],
   "source": [
    "wood_ts_no_code = named_wood_ts[[col for col in named_wood_ts.columns if '20' in col]]\n",
    "wood_ts_no_code"
   ]
  },
  {
   "cell_type": "code",
   "execution_count": null,
   "metadata": {},
   "outputs": [],
   "source": [
    "lad_name = 'Calderdale'\n",
    "\n",
    "series = wood_ts_no_code.loc[lad_name][[col for col in wood_ts_no_code.columns if \"change\" not in col]]\n",
    "\n",
    "series.plot(style=['g'], figsize=(12, 8))\n",
    "\n",
    "plt.title(f'Percentage of woodland cover over land area for {lad_name}')\n",
    "plt.xlabel('Year')\n",
    "plt.ylabel('Woodland (%)')\n",
    "\n",
    "plt.fill_between(series.index, series.values, color='g')\n",
    "plt.ylim([series.min()-0.01, series.max()+0.05])\n",
    "plt.grid(alpha=0.5)\n",
    "plt.show()"
   ]
  },
  {
   "cell_type": "code",
   "execution_count": null,
   "metadata": {},
   "outputs": [],
   "source": [
    "wood_ts_no_code['change'] = wood_ts_no_code['2021'] - wood_ts_no_code['2017']\n",
    "wood_ts_no_code['change'].nlargest(20)"
   ]
  },
  {
   "cell_type": "code",
   "execution_count": null,
   "metadata": {},
   "outputs": [],
   "source": [
    "wood_ts_no_code['change'].nsmallest(20)"
   ]
  },
  {
   "cell_type": "code",
   "execution_count": null,
   "metadata": {},
   "outputs": [],
   "source": []
  }
 ],
 "metadata": {
  "kernelspec": {
   "display_name": "geo_env38",
   "language": "python",
   "name": "geo_env38"
  },
  "language_info": {
   "codemirror_mode": {
    "name": "ipython",
    "version": 3
   },
   "file_extension": ".py",
   "mimetype": "text/x-python",
   "name": "python",
   "nbconvert_exporter": "python",
   "pygments_lexer": "ipython3",
   "version": "3.8.3"
  }
 },
 "nbformat": 4,
 "nbformat_minor": 4
}
