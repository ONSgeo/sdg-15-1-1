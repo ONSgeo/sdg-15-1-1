{
 "cells": [
  {
   "cell_type": "code",
   "execution_count": 1,
   "metadata": {},
   "outputs": [
    {
     "name": "stderr",
     "output_type": "stream",
     "text": [
      "C:\\Users\\Cusse\\Anaconda3\\lib\\site-packages\\pandas\\core\\computation\\expressions.py:20: UserWarning: Pandas requires version '2.7.3' or newer of 'numexpr' (version '2.7.1' currently installed).\n",
      "  from pandas.core.computation.check import NUMEXPR_INSTALLED\n"
     ]
    }
   ],
   "source": [
    "import glob\n",
    "import pandas as pd\n",
    "import geopandas as gpd\n",
    "import matplotlib.pyplot as plt\n",
    "\n",
    "from user_params import UserParams"
   ]
  },
  {
   "cell_type": "code",
   "execution_count": 2,
   "metadata": {},
   "outputs": [],
   "source": [
    "params = UserParams()\n",
    "all_files = glob.glob(f'{params.root_dir}/sdg_15_1_1_output/*.csv')\n",
    "lad = gpd.read_file(f'{params.root_dir}/sdg_15_1_1_data/LADs/LAD_DEC_2021_UK_BFE.shp')[['LAD21CD', 'LAD21NM']]\n",
    "lad = lad.set_index('LAD21CD')\n"
   ]
  },
  {
   "cell_type": "code",
   "execution_count": 3,
   "metadata": {},
   "outputs": [],
   "source": [
    "dfs = []\n",
    "\n",
    "for f in all_files:\n",
    "    df = pd.read_csv(f, index_col=0)\n",
    "    dfs.append(df)"
   ]
  },
  {
   "cell_type": "code",
   "execution_count": 4,
   "metadata": {},
   "outputs": [],
   "source": [
    "wood_ts = pd.concat(dfs, axis=1)\n",
    "wood_ts.columns = [col.split('_')[-1] for col in wood_ts.columns]\n"
   ]
  },
  {
   "cell_type": "code",
   "execution_count": 5,
   "metadata": {},
   "outputs": [],
   "source": [
    "named_wood_ts = pd.concat([lad, wood_ts], axis=1).reset_index()\n",
    "named_wood_ts = named_wood_ts.rename(columns={'index':  'LAD21CD'}).set_index('LAD21NM')"
   ]
  },
  {
   "cell_type": "code",
   "execution_count": 6,
   "metadata": {},
   "outputs": [
    {
     "data": {
      "text/html": [
       "<div>\n",
       "<style scoped>\n",
       "    .dataframe tbody tr th:only-of-type {\n",
       "        vertical-align: middle;\n",
       "    }\n",
       "\n",
       "    .dataframe tbody tr th {\n",
       "        vertical-align: top;\n",
       "    }\n",
       "\n",
       "    .dataframe thead th {\n",
       "        text-align: right;\n",
       "    }\n",
       "</style>\n",
       "<table border=\"1\" class=\"dataframe\">\n",
       "  <thead>\n",
       "    <tr style=\"text-align: right;\">\n",
       "      <th></th>\n",
       "      <th>2017</th>\n",
       "      <th>2018</th>\n",
       "      <th>2019</th>\n",
       "      <th>2020</th>\n",
       "      <th>2021</th>\n",
       "    </tr>\n",
       "    <tr>\n",
       "      <th>LAD21NM</th>\n",
       "      <th></th>\n",
       "      <th></th>\n",
       "      <th></th>\n",
       "      <th></th>\n",
       "      <th></th>\n",
       "    </tr>\n",
       "  </thead>\n",
       "  <tbody>\n",
       "    <tr>\n",
       "      <th>Hartlepool</th>\n",
       "      <td>8.909381</td>\n",
       "      <td>8.899129</td>\n",
       "      <td>8.461132</td>\n",
       "      <td>8.298312</td>\n",
       "      <td>8.297914</td>\n",
       "    </tr>\n",
       "    <tr>\n",
       "      <th>Middlesbrough</th>\n",
       "      <td>5.801441</td>\n",
       "      <td>5.852225</td>\n",
       "      <td>5.852481</td>\n",
       "      <td>5.852481</td>\n",
       "      <td>5.852481</td>\n",
       "    </tr>\n",
       "    <tr>\n",
       "      <th>Redcar and Cleveland</th>\n",
       "      <td>12.450676</td>\n",
       "      <td>12.449069</td>\n",
       "      <td>12.436699</td>\n",
       "      <td>12.433870</td>\n",
       "      <td>12.433875</td>\n",
       "    </tr>\n",
       "    <tr>\n",
       "      <th>Stockton-on-Tees</th>\n",
       "      <td>7.526627</td>\n",
       "      <td>7.635118</td>\n",
       "      <td>7.679417</td>\n",
       "      <td>7.774949</td>\n",
       "      <td>7.858836</td>\n",
       "    </tr>\n",
       "    <tr>\n",
       "      <th>Darlington</th>\n",
       "      <td>4.329069</td>\n",
       "      <td>4.329071</td>\n",
       "      <td>4.300833</td>\n",
       "      <td>4.483102</td>\n",
       "      <td>4.483054</td>\n",
       "    </tr>\n",
       "    <tr>\n",
       "      <th>...</th>\n",
       "      <td>...</td>\n",
       "      <td>...</td>\n",
       "      <td>...</td>\n",
       "      <td>...</td>\n",
       "      <td>...</td>\n",
       "    </tr>\n",
       "    <tr>\n",
       "      <th>NaN</th>\n",
       "      <td>6.938512</td>\n",
       "      <td>6.938928</td>\n",
       "      <td>NaN</td>\n",
       "      <td>NaN</td>\n",
       "      <td>NaN</td>\n",
       "    </tr>\n",
       "    <tr>\n",
       "      <th>NaN</th>\n",
       "      <td>13.871531</td>\n",
       "      <td>NaN</td>\n",
       "      <td>NaN</td>\n",
       "      <td>NaN</td>\n",
       "      <td>NaN</td>\n",
       "    </tr>\n",
       "    <tr>\n",
       "      <th>NaN</th>\n",
       "      <td>18.608548</td>\n",
       "      <td>NaN</td>\n",
       "      <td>NaN</td>\n",
       "      <td>NaN</td>\n",
       "      <td>NaN</td>\n",
       "    </tr>\n",
       "    <tr>\n",
       "      <th>NaN</th>\n",
       "      <td>25.525709</td>\n",
       "      <td>25.624564</td>\n",
       "      <td>NaN</td>\n",
       "      <td>NaN</td>\n",
       "      <td>NaN</td>\n",
       "    </tr>\n",
       "    <tr>\n",
       "      <th>NaN</th>\n",
       "      <td>10.916138</td>\n",
       "      <td>10.933304</td>\n",
       "      <td>NaN</td>\n",
       "      <td>NaN</td>\n",
       "      <td>NaN</td>\n",
       "    </tr>\n",
       "  </tbody>\n",
       "</table>\n",
       "<p>403 rows × 5 columns</p>\n",
       "</div>"
      ],
      "text/plain": [
       "                           2017       2018       2019       2020       2021\n",
       "LAD21NM                                                                    \n",
       "Hartlepool             8.909381   8.899129   8.461132   8.298312   8.297914\n",
       "Middlesbrough          5.801441   5.852225   5.852481   5.852481   5.852481\n",
       "Redcar and Cleveland  12.450676  12.449069  12.436699  12.433870  12.433875\n",
       "Stockton-on-Tees       7.526627   7.635118   7.679417   7.774949   7.858836\n",
       "Darlington             4.329069   4.329071   4.300833   4.483102   4.483054\n",
       "...                         ...        ...        ...        ...        ...\n",
       "NaN                    6.938512   6.938928        NaN        NaN        NaN\n",
       "NaN                   13.871531        NaN        NaN        NaN        NaN\n",
       "NaN                   18.608548        NaN        NaN        NaN        NaN\n",
       "NaN                   25.525709  25.624564        NaN        NaN        NaN\n",
       "NaN                   10.916138  10.933304        NaN        NaN        NaN\n",
       "\n",
       "[403 rows x 5 columns]"
      ]
     },
     "execution_count": 6,
     "metadata": {},
     "output_type": "execute_result"
    }
   ],
   "source": [
    "wood_ts_no_code = named_wood_ts[[col for col in named_wood_ts.columns if '20' in col]]\n",
    "wood_ts_no_code"
   ]
  },
  {
   "cell_type": "code",
   "execution_count": 29,
   "metadata": {},
   "outputs": [
    {
     "data": {
      "image/png": "[encoded data removed]",
      "text/plain": [
       "<Figure size 864x576 with 1 Axes>"
      ]
     },
     "metadata": {
      "needs_background": "light"
     },
     "output_type": "display_data"
    }
   ],
   "source": [
    "lad_name = 'Haringey'\n",
    "\n",
    "series = wood_ts_no_code.loc[lad_name][[col for col in wood_ts_no_code.columns if \"change\" not in col]]\n",
    "\n",
    "series.plot(style=['g'], figsize=(12, 8))\n",
    "\n",
    "plt.title(f'Percentage of woodland cover over land area for {lad_name}')\n",
    "plt.xlabel('Year')\n",
    "plt.ylabel('Woodland (%)')\n",
    "\n",
    "plt.fill_between(series.index, series.values, color='g')\n",
    "plt.ylim([series.min()-0.01, series.max()+0.05])\n",
    "plt.grid(alpha=0.5)\n",
    "plt.show()"
   ]
  },
  {
   "cell_type": "code",
   "execution_count": 8,
   "metadata": {},
   "outputs": [
    {
     "data": {
      "text/plain": [
       "LAD21NM\n",
       "East Renfrewshire       4.121111\n",
       "Richmond upon Thames    3.504955\n",
       "East Ayrshire           1.597008\n",
       "Clackmannanshire        1.584369\n",
       "Stirling                1.564474\n",
       "Scottish Borders        1.379095\n",
       "Rossendale              1.325297\n",
       "Inverclyde              1.099872\n",
       "Epsom and Ewell         1.081307\n",
       "North Ayrshire          1.054298\n",
       "Blaenau Gwent           1.045676\n",
       "Stoke-on-Trent          0.930113\n",
       "Calderdale              0.866325\n",
       "South Ayrshire          0.843220\n",
       "Renfrewshire            0.808095\n",
       "Midlothian              0.788668\n",
       "West Lothian            0.777016\n",
       "City of Edinburgh       0.769140\n",
       "Reigate and Banstead    0.699942\n",
       "Kingston upon Thames    0.656037\n",
       "Name: change, dtype: float64"
      ]
     },
     "execution_count": 8,
     "metadata": {},
     "output_type": "execute_result"
    }
   ],
   "source": [
    "wood_ts_no_code['change'] = wood_ts_no_code['2021'] - wood_ts_no_code['2017']\n",
    "wood_ts_no_code['change'].nlargest(20)"
   ]
  },
  {
   "cell_type": "code",
   "execution_count": 9,
   "metadata": {},
   "outputs": [
    {
     "data": {
      "text/plain": [
       "LAD21NM\n",
       "Hastings                -4.261260\n",
       "East Dunbartonshire     -1.850634\n",
       "Merthyr Tydfil          -1.498161\n",
       "Crawley                 -1.230260\n",
       "Cannock Chase           -0.811653\n",
       "Carlisle                -0.790802\n",
       "Islington               -0.651950\n",
       "Greenwich               -0.638477\n",
       "Mansfield               -0.614554\n",
       "Hartlepool              -0.611467\n",
       "Tonbridge and Malling   -0.570078\n",
       "Dartford                -0.484557\n",
       "Haringey                -0.478067\n",
       "Wyre Forest             -0.470525\n",
       "Camden                  -0.466811\n",
       "Neath Port Talbot       -0.460735\n",
       "Ipswich                 -0.433416\n",
       "Southend-on-Sea         -0.387153\n",
       "Three Rivers            -0.382770\n",
       "Newport                 -0.372372\n",
       "Name: change, dtype: float64"
      ]
     },
     "execution_count": 9,
     "metadata": {},
     "output_type": "execute_result"
    }
   ],
   "source": [
    "wood_ts_no_code['change'].nsmallest(20)"
   ]
  },
  {
   "cell_type": "code",
   "execution_count": null,
   "metadata": {},
   "outputs": [],
   "source": []
  }
 ],
 "metadata": {
  "kernelspec": {
   "display_name": "geo_env38",
   "language": "python",
   "name": "geo_env38"
  },
  "language_info": {
   "codemirror_mode": {
    "name": "ipython",
    "version": 3
   },
   "file_extension": ".py",
   "mimetype": "text/x-python",
   "name": "python",
   "nbconvert_exporter": "python",
   "pygments_lexer": "ipython3",
   "version": "3.8.3"
  }
 },
 "nbformat": 4,
 "nbformat_minor": 4
}
